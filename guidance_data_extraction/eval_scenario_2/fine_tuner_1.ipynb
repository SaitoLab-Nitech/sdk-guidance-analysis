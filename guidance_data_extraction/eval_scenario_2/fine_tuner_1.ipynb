{
 "cells": [
  {
   "cell_type": "markdown",
   "id": "5ee1e220-16d8-4a25-a554-29772d4a2897",
   "metadata": {},
   "source": [
    "# Fine Tuner 1"
   ]
  },
  {
   "cell_type": "code",
   "execution_count": 1,
   "id": "0cd063a7-ce3b-49d8-8337-9735c415a689",
   "metadata": {},
   "outputs": [],
   "source": [
    "import os\n",
    "import glob\n",
    "import shutil\n",
    "\n",
    "output_path_base = 'path_to_model_checkpoint/'\n",
    "SEED = 20\n",
    "TARGETS = [2, 4, 5, 6, 7, 8, 9, 10, 11, 12, 14, 16, 18, 19, 20, 21, 23, 24, 25, 27, 31, 32, 33, 34, 35, 36, 37, 40, 41, 42, 43,\n",
    "           44, 45, 46, 47, 48, 49, 50, 51, 52, 53, 54, 55, 56, 57, 58, 59]\n",
    "SCRIPT = 'fine_tuner_1.py'"
   ]
  },
  {
   "cell_type": "code",
   "execution_count": 2,
   "id": "5e6832d7-dbfb-442b-b22e-1d78a23bbbf9",
   "metadata": {},
   "outputs": [],
   "source": [
    "def run_one_training(last_id, prev_id, seed, output_path_base_seed):\n",
    "    print(f'{seed = }, {last_id = }')\n",
    "\n",
    "    output_dir = f'{output_path_base_seed}/base_from_2_to_{last_id}/'\n",
    "\n",
    "    if (os.path.isdir(output_dir)):\n",
    "        shutil.rmtree(output_dir)\n",
    "    os.mkdir(output_dir)\n",
    "\n",
    "    model_checkpoint = 'bert-base-cased'\n",
    "\n",
    "    output = %sx python3 $SCRIPT $output_dir $last_id $model_checkpoint $seed\n",
    "    print(output)"
   ]
  },
  {
   "cell_type": "code",
   "execution_count": 3,
   "id": "d7255487-8680-4433-8070-339aa47a9830",
   "metadata": {
    "tags": []
   },
   "outputs": [],
   "source": [
    "def run(seed):\n",
    "    print(f'{seed = }')\n",
    "    output_path_base_seed = output_path_base.format(seed)\n",
    "\n",
    "    if (os.path.isdir(output_path_base_seed)):\n",
    "        shutil.rmtree(output_path_base_seed)\n",
    "    os.mkdir(output_path_base_seed)\n",
    "\n",
    "    for i, target in enumerate(TARGETS):\n",
    "        prev_id = TARGETS[i-1] if i != 0 else target\n",
    "        run_one_training(target, prev_id, seed, output_path_base_seed)"
   ]
  },
  {
   "cell_type": "code",
   "execution_count": null,
   "id": "4213374d-f0a2-4c79-9e1f-db0d1303e5f5",
   "metadata": {
    "scrolled": true
   },
   "outputs": [],
   "source": [
    "%%time\n",
    "\n",
    "run(SEED)\n",
    "print('Done!')"
   ]
  },
  {
   "cell_type": "code",
   "execution_count": null,
   "id": "ae9127a1-9e0a-4c14-ad91-72a7194303f5",
   "metadata": {},
   "outputs": [],
   "source": []
  }
 ],
 "metadata": {
  "kernelspec": {
   "display_name": "Python 3",
   "language": "python",
   "name": "python3"
  },
  "language_info": {
   "codemirror_mode": {
    "name": "ipython",
    "version": 3
   },
   "file_extension": ".py",
   "mimetype": "text/x-python",
   "name": "python",
   "nbconvert_exporter": "python",
   "pygments_lexer": "ipython3",
   "version": "3.10.11"
  }
 },
 "nbformat": 4,
 "nbformat_minor": 5
}
