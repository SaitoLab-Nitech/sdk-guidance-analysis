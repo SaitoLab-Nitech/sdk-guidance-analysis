{
 "cells": [
  {
   "cell_type": "markdown",
   "id": "2eb68607-2164-47f0-9a23-6984068dde0a",
   "metadata": {},
   "source": [
    "# Evaluator"
   ]
  },
  {
   "cell_type": "code",
   "execution_count": null,
   "id": "c98e4a19-88da-473b-b7ba-92515be69aac",
   "metadata": {},
   "outputs": [],
   "source": [
    "import os\n",
    "\n",
    "seed = 110\n",
    "test_size = 0.3\n",
    "model_checkpoint = 'path_to_model_checkpoint/'\n",
    "tokenizer = 'bert-base-cased'\n",
    "result_output_path = 'results/'\n",
    "dataset_path = 'dataset/'\n",
    "targets = [2, 4, 5, 6, 7, 8, 9, 10, 11, 12, 14, 16, 18, 19, 20, 21, 23, 24, 25, 27, 31, 32, 33, 34, 35, 36, 37, 40, 41, 42, 43,\n",
    "           44, 45, 46, 47, 48, 49, 50, 51, 52, 53, 54, 55, 56, 57, 58, 59]\n",
    "\n",
    "from evaluator import Evaluator\n",
    "\n",
    "evaluator = Evaluator(dataset_path, model_checkpoint, seed, tokenizer, test_size)\n",
    "\n",
    "result_accuracy = ''"
   ]
  },
  {
   "cell_type": "code",
   "execution_count": 2,
   "id": "f8a4054e-fe60-4214-bff4-221cc2df066d",
   "metadata": {},
   "outputs": [],
   "source": [
    "def evaluate(target):\n",
    "    global result_accuracy\n",
    "\n",
    "    if (os.path.getsize(f'{dataset_path}{target}.json') < 4):\n",
    "        result_accuracy += f'{target},0\\n'\n",
    "        return\n",
    "\n",
    "    ret = evaluator.run(target)\n",
    "    print(f'precision: {ret[\"eval_precision\"]}')\n",
    "    print(f'recall:    {ret[\"eval_recall\"]}')\n",
    "    print(f'f1:        {ret[\"eval_f1\"]}')\n",
    "    print(f'accuracy:  {ret[\"eval_accuracy\"]}')\n",
    "\n",
    "    result_accuracy += f'{target},{ret[\"eval_accuracy\"]},{ret[\"eval_precision\"]},{ret[\"eval_recall\"]},{ret[\"eval_f1\"]}\\n'"
   ]
  },
  {
   "cell_type": "code",
   "execution_count": null,
   "id": "e7d3d7dd-1ffa-4275-af27-0f2a32f06c6d",
   "metadata": {
    "tags": []
   },
   "outputs": [],
   "source": [
    "%%time\n",
    "\n",
    "for target in targets:\n",
    "    print(f'{target = }')\n",
    "    evaluate(target)\n",
    "\n",
    "with open(result_output_path, 'w') as f:\n",
    "    f.write(result_accuracy)\n",
    "\n",
    "print('Done!')"
   ]
  },
  {
   "cell_type": "code",
   "execution_count": null,
   "id": "8b368c73-e6c4-4c51-88d7-18748540d914",
   "metadata": {},
   "outputs": [],
   "source": []
  }
 ],
 "metadata": {
  "kernelspec": {
   "display_name": "Python 3",
   "language": "python",
   "name": "python3"
  },
  "language_info": {
   "codemirror_mode": {
    "name": "ipython",
    "version": 3
   },
   "file_extension": ".py",
   "mimetype": "text/x-python",
   "name": "python",
   "nbconvert_exporter": "python",
   "pygments_lexer": "ipython3",
   "version": "3.10.11"
  }
 },
 "nbformat": 4,
 "nbformat_minor": 5
}
