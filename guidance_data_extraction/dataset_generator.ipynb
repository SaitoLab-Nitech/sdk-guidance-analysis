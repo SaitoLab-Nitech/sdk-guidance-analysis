{
 "cells": [
  {
   "cell_type": "markdown",
   "id": "1b58bcb7-868b-460f-84ef-857a0d1d3a63",
   "metadata": {},
   "source": [
    "# Dataset Generator"
   ]
  },
  {
   "cell_type": "code",
   "execution_count": 1,
   "id": "8035b083-62e7-4d93-8942-429c4598671a",
   "metadata": {},
   "outputs": [],
   "source": [
    "import json\n",
    "\n",
    "texts_path = 'extracted_texts/'\n",
    "output_path = 'dataset/'"
   ]
  },
  {
   "cell_type": "code",
   "execution_count": 2,
   "id": "bc8779f7-9c81-498e-ae48-da6f0188dc4d",
   "metadata": {},
   "outputs": [
    {
     "name": "stdout",
     "output_type": "stream",
     "text": [
      "len(save_all) = 47\n"
     ]
    }
   ],
   "source": [
    "save_all = [ 2, 4, 5, 6, 7, 8, 9, 10, 11, 12, 14, 16, 18, 19, 20, 21, 23, 24, 25, 27, 31, 32, 33, 34, 35, 36, 37, 40, 41, 42, 43 ]\n",
    "save_all += [ 44, 45, 46, 47, 48, 49, 50, 51, 52, 53, 54, 55, 56, 57, 58 ]\n",
    "save_all += [ 59 ]\n",
    "dont_save_all = [ ]\n",
    "print(f'{len(save_all) = }')"
   ]
  },
  {
   "cell_type": "code",
   "execution_count": 3,
   "id": "8d154e61-6621-426c-854c-69f57f27455c",
   "metadata": {},
   "outputs": [
    {
     "name": "stdout",
     "output_type": "stream",
     "text": [
      "label_names = ['O', 'B-SDK', 'I-SDK', 'B-PRA', 'I-PRA', 'B-DAT', 'I-DAT', 'B-DES', 'I-DES', 'B-CON', 'I-CON', 'B-EPH', 'I-EPH', 'B-PUR', 'I-PUR', 'B-ENC', 'I-ENC', 'B-DEL', 'I-DEL']\n"
     ]
    }
   ],
   "source": [
    "labels = open('labels.csv', 'r').read().split(',')\n",
    "\n",
    "label_names = [ 'O' ]\n",
    "\n",
    "for label in labels:\n",
    "    label_names.append('B-'+label)\n",
    "    label_names.append('I-'+label)\n",
    "\n",
    "print(f'{label_names = }')"
   ]
  },
  {
   "cell_type": "code",
   "execution_count": 4,
   "id": "bceefac6-62f1-485a-8bcf-ea3870b775ce",
   "metadata": {},
   "outputs": [],
   "source": [
    "def generate(target):\n",
    "    dataset = []\n",
    "    texts_stripped = ''\n",
    "\n",
    "    if (target in [35, 46, 59]):\n",
    "        texts = list(filter(None, open(f'{texts_path}{target}_non-tab.txt', 'r').read().split('\\n')))\n",
    "    else:\n",
    "        texts = list(filter(None, open(f'{texts_path}{target}_tab.txt', 'r').read().split('\\n')))\n",
    "\n",
    "    print(f'{len(texts) = }')\n",
    "\n",
    "    for text in texts:\n",
    "        text = text.replace(u'\\xa0', u' ')\n",
    "\n",
    "        word_list = []\n",
    "        tag_list = []\n",
    "        current_tag = None\n",
    "\n",
    "        for word in text.split(' '):\n",
    "            label_start = word.find('[[[{')\n",
    "            if (label_start > -1):\n",
    "                current_tag = 'B-'+word[label_start+4:].split('}')[0]\n",
    "                word = word[8:]\n",
    "\n",
    "            if (current_tag is not None):\n",
    "                try:\n",
    "                    tag_list.append(label_names.index(current_tag))\n",
    "                except Exception as e:\n",
    "                    print(f'{current_tag = }, {text = }')\n",
    "                    raise e\n",
    "                if (current_tag.startswith('B-')):\n",
    "                    current_tag = 'I-'+current_tag[2:]\n",
    "            else:\n",
    "                tag_list.append(label_names.index('O'))\n",
    "\n",
    "            label_end = word.find(']]]')\n",
    "            if (label_end > -1):\n",
    "                current_tag = None\n",
    "                word = word[:label_end] + word[label_end+3:]\n",
    "            word_list.append(word)\n",
    "\n",
    "        if (target in save_all or\n",
    "            len(set(tag_list)) > 1\n",
    "           ):\n",
    "            dataset.append({\n",
    "                'tokens': word_list,\n",
    "                'ner_tags': tag_list,\n",
    "            })\n",
    "        texts_stripped += ' '.join(word_list)+'\\n'\n",
    "\n",
    "    with open(f'{output_path}{target}.json', 'w') as f:\n",
    "        f.write(json.dumps(dataset))\n",
    "    with open(f'{output_path}{target}.txt', 'w') as f:\n",
    "        f.write(texts_stripped)"
   ]
  },
  {
   "cell_type": "code",
   "execution_count": 5,
   "id": "2bff0c19-980a-42f0-9b50-2ecd4c22aca0",
   "metadata": {
    "tags": []
   },
   "outputs": [
    {
     "name": "stdout",
     "output_type": "stream",
     "text": [
      "targets = [2, 4, 5, 6, 7, 8, 9, 10, 11, 12, 14, 16, 18, 19, 20, 21, 23, 24, 25, 27, 31, 32, 33, 34, 35, 36, 37, 40, 41, 42, 43, 44, 45, 46, 47, 48, 49, 50, 51, 52, 53, 54, 55, 56, 57, 58, 59]\n",
      "target = 2\n",
      "len(texts) = 37\n",
      "target = 4\n",
      "len(texts) = 41\n",
      "target = 5\n",
      "len(texts) = 23\n",
      "target = 6\n",
      "len(texts) = 37\n",
      "target = 7\n",
      "len(texts) = 3\n",
      "target = 8\n",
      "len(texts) = 3\n",
      "target = 9\n",
      "len(texts) = 5\n",
      "target = 10\n",
      "len(texts) = 4\n",
      "target = 11\n",
      "len(texts) = 8\n",
      "target = 12\n",
      "len(texts) = 22\n",
      "target = 14\n",
      "len(texts) = 57\n",
      "target = 16\n",
      "len(texts) = 50\n",
      "target = 18\n",
      "len(texts) = 13\n",
      "target = 19\n",
      "len(texts) = 11\n",
      "target = 20\n",
      "len(texts) = 40\n",
      "target = 21\n",
      "len(texts) = 13\n",
      "target = 23\n",
      "len(texts) = 60\n",
      "target = 24\n",
      "len(texts) = 21\n",
      "target = 25\n",
      "len(texts) = 22\n",
      "target = 27\n",
      "len(texts) = 25\n",
      "target = 31\n",
      "len(texts) = 18\n",
      "target = 32\n",
      "len(texts) = 4\n",
      "target = 33\n",
      "len(texts) = 34\n",
      "target = 34\n",
      "len(texts) = 37\n",
      "target = 35\n",
      "len(texts) = 23\n",
      "target = 36\n",
      "len(texts) = 16\n",
      "target = 37\n",
      "len(texts) = 6\n",
      "target = 40\n",
      "len(texts) = 41\n",
      "target = 41\n",
      "len(texts) = 8\n",
      "target = 42\n",
      "len(texts) = 41\n",
      "target = 43\n",
      "len(texts) = 6\n",
      "target = 44\n",
      "len(texts) = 136\n",
      "target = 45\n",
      "len(texts) = 23\n",
      "target = 46\n",
      "len(texts) = 85\n",
      "target = 47\n",
      "len(texts) = 13\n",
      "target = 48\n",
      "len(texts) = 45\n",
      "target = 49\n",
      "len(texts) = 15\n",
      "target = 50\n",
      "len(texts) = 37\n",
      "target = 51\n",
      "len(texts) = 17\n",
      "target = 52\n",
      "len(texts) = 17\n",
      "target = 53\n",
      "len(texts) = 37\n",
      "target = 54\n",
      "len(texts) = 40\n",
      "target = 55\n",
      "len(texts) = 15\n",
      "target = 56\n",
      "len(texts) = 346\n",
      "target = 57\n",
      "len(texts) = 56\n",
      "target = 58\n",
      "len(texts) = 14\n",
      "target = 59\n",
      "len(texts) = 13\n",
      "Done!\n"
     ]
    }
   ],
   "source": [
    "targets = save_all + dont_save_all\n",
    "targets.sort()\n",
    "\n",
    "print(f'{targets = }')\n",
    "\n",
    "for target in targets:\n",
    "    print(f'{target = }')\n",
    "    generate(target)\n",
    "print('Done!')"
   ]
  },
  {
   "cell_type": "code",
   "execution_count": null,
   "id": "a64b6633-db0f-40b7-8289-a0d7a90bd2f8",
   "metadata": {},
   "outputs": [],
   "source": []
  }
 ],
 "metadata": {
  "kernelspec": {
   "display_name": "Python 3",
   "language": "python",
   "name": "python3"
  },
  "language_info": {
   "codemirror_mode": {
    "name": "ipython",
    "version": 3
   },
   "file_extension": ".py",
   "mimetype": "text/x-python",
   "name": "python",
   "nbconvert_exporter": "python",
   "pygments_lexer": "ipython3",
   "version": "3.10.11"
  }
 },
 "nbformat": 4,
 "nbformat_minor": 5
}
