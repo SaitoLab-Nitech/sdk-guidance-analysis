{
 "cells": [
  {
   "cell_type": "markdown",
   "id": "c4b40bdc-da35-43a8-96b7-0a60808e9bb4",
   "metadata": {},
   "source": [
    "# Inference Runner"
   ]
  },
  {
   "cell_type": "code",
   "execution_count": null,
   "id": "a19dba4f-962e-49b0-9f68-19fa3f4383c1",
   "metadata": {},
   "outputs": [],
   "source": [
    "import json\n",
    "from transformers import pipeline, AutoModelForTokenClassification, AutoTokenizer"
   ]
  },
  {
   "cell_type": "code",
   "execution_count": 2,
   "id": "92fd5014-81fd-4e14-a07f-95adef197a8e",
   "metadata": {},
   "outputs": [],
   "source": [
    "text_path = 'dataset/'"
   ]
  },
  {
   "cell_type": "code",
   "execution_count": 3,
   "id": "c4947aee-8944-4598-b6ba-45dfa00d2375",
   "metadata": {},
   "outputs": [],
   "source": [
    "checkpoint = 'path_to_model_checkpoint/'\n",
    "inference_result_path = 'inference_results/'\n",
    "MODEL = 'bert-base-cased'\n",
    "targets = [2, 4, 5, 6, 7, 8, 9, 10, 11, 12, 14, 16, 18, 19, 20, 21, 23, 24, 25, 27, 31, 32, 33, 34, 35, 36, 37, 40, 41, 42, 43,\n",
    "           44, 45, 46, 47, 48, 49, 50, 51, 52, 53, 54, 55, 56, 57, 58, 59]"
   ]
  },
  {
   "cell_type": "code",
   "execution_count": 4,
   "id": "d3c8f6cc-aaf0-466e-af3d-6ed836a0aac7",
   "metadata": {},
   "outputs": [],
   "source": [
    "analyzer = pipeline(\n",
    "    task=\"ner\",\n",
    "    model=AutoModelForTokenClassification.from_pretrained(checkpoint),\n",
    "    tokenizer=AutoTokenizer.from_pretrained(MODEL),\n",
    "    aggregation_strategy=\"simple\"\n",
    ")"
   ]
  },
  {
   "cell_type": "code",
   "execution_count": 6,
   "id": "7a7d4631-41ea-42e5-a94e-80f494d74909",
   "metadata": {
    "tags": []
   },
   "outputs": [],
   "source": [
    "def run(target):\n",
    "    inference_result = []\n",
    "\n",
    "    texts = list(filter(None, open(f'{text_path}{target}.txt', 'r').read().split('\\n')))\n",
    "\n",
    "    for i, text in enumerate(texts):\n",
    "        results = analyzer(text)\n",
    "        for result in results:\n",
    "            result['score'] = float(result['score'])\n",
    "\n",
    "        inference_result.append({\n",
    "            'num': i,\n",
    "            'text': text,\n",
    "            'results': results,\n",
    "        })\n",
    "\n",
    "    with open(f'{inference_result_path}{target}.json', 'w') as f:\n",
    "        f.write(json.dumps(inference_result))"
   ]
  },
  {
   "cell_type": "code",
   "execution_count": 8,
   "id": "c7377154-5985-4514-bf28-3d6741f079db",
   "metadata": {
    "tags": []
   },
   "outputs": [
    {
     "name": "stdout",
     "output_type": "stream",
     "text": [
      "len(targets) = 47\n",
      "Done!\n",
      "CPU times: user 6min 45s, sys: 175 ms, total: 6min 46s\n",
      "Wall time: 40.6 s\n"
     ]
    }
   ],
   "source": [
    "%%time\n",
    "\n",
    "\n",
    "print(f'{len(targets) = }')\n",
    "\n",
    "for target in targets:\n",
    "    run(target)\n",
    "\n",
    "print('Done!')"
   ]
  },
  {
   "cell_type": "code",
   "execution_count": null,
   "id": "e000ab5f-86e8-4754-bf13-c544651d7d2e",
   "metadata": {},
   "outputs": [],
   "source": []
  }
 ],
 "metadata": {
  "kernelspec": {
   "display_name": "Python 3",
   "language": "python",
   "name": "python3"
  },
  "language_info": {
   "codemirror_mode": {
    "name": "ipython",
    "version": 3
   },
   "file_extension": ".py",
   "mimetype": "text/x-python",
   "name": "python",
   "nbconvert_exporter": "python",
   "pygments_lexer": "ipython3",
   "version": "3.10.11"
  }
 },
 "nbformat": 4,
 "nbformat_minor": 5
}
