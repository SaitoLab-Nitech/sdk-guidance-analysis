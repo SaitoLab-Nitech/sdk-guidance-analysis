{
 "cells": [
  {
   "cell_type": "markdown",
   "id": "4441682f-f841-4ba5-a24e-ae1a4a624789",
   "metadata": {},
   "source": [
    "# Final Outcome Generator"
   ]
  },
  {
   "cell_type": "code",
   "execution_count": 1,
   "id": "e14871f7-21b0-475e-ab76-2d8737c177c9",
   "metadata": {},
   "outputs": [],
   "source": [
    "import csv\n",
    "import json\n",
    "\n",
    "inference_result_path = 'inference_results/'\n",
    "final_outcome_path = 'extracted_data_for_inconsistency_detection/'\n",
    "targets = [2, 4, 5, 6, 7, 8, 9, 10, 11, 12, 14, 16, 18, 19, 20, 21, 23, 24, 25, 27, 31, 32, 33, 34, 35, 36, 37, 40, 41, 42, 43,\n",
    "           44, 45, 46, 47, 48, 49, 50, 51, 52, 53, 54, 55, 56, 57, 58, 59]"
   ]
  },
  {
   "cell_type": "code",
   "execution_count": 2,
   "id": "076d37be-c5e0-4447-92b1-3f5d1e9bd85e",
   "metadata": {},
   "outputs": [],
   "source": [
    "HEADER = [\n",
    "    'SDK',\n",
    "    'DAT',\n",
    "    'PRA',\n",
    "    'DES',\n",
    "    'CON',\n",
    "    'PUR',\n",
    "    'text',\n",
    "]"
   ]
  },
  {
   "cell_type": "code",
   "execution_count": 3,
   "id": "dfe0dcf6-e670-4c1f-8a09-f8fc09019f41",
   "metadata": {},
   "outputs": [],
   "source": [
    "def create_new_row(array):\n",
    "    array.append({})\n",
    "    for header in HEADER:\n",
    "        array[-1][header] = []"
   ]
  },
  {
   "cell_type": "code",
   "execution_count": 4,
   "id": "3e86760c-7935-4b21-a9de-cba29a919354",
   "metadata": {},
   "outputs": [],
   "source": [
    "def generate(target):\n",
    "    with open(f'{inference_result_path}{target}.json', 'r') as f:\n",
    "        inference_result = json.loads(f.read())\n",
    "\n",
    "    structured_rows = []\n",
    "    for record in inference_result:\n",
    "        prev_label = ''\n",
    "        detected = False\n",
    "        for result in record['results']:\n",
    "            label = result['entity_group']\n",
    "            word = result['word']\n",
    "\n",
    "            if (label == 'DAT'):\n",
    "                if (prev_label != 'DAT'):\n",
    "                    create_new_row(structured_rows)\n",
    "                structured_rows[-1]['DAT'].append(word)\n",
    "                detected = True\n",
    "            elif (label in HEADER):\n",
    "                if (len(structured_rows) == 0):\n",
    "                    create_new_row(structured_rows)\n",
    "                structured_rows[-1][label].append(word)\n",
    "                detected = True\n",
    "\n",
    "            prev_label = label\n",
    "\n",
    "        if (detected):\n",
    "            structured_rows[-1]['text'].append(record['text'])\n",
    "\n",
    "    final_outcome = []\n",
    "    final_outcome.append(HEADER)\n",
    "    for row in structured_rows:\n",
    "        new_row = []\n",
    "        for val in row.values():\n",
    "            new_row.append('. '.join(val))\n",
    "        final_outcome.append(new_row)\n",
    "\n",
    "    with open(f'{final_outcome_path}{target}.csv', 'w') as f:\n",
    "        csv.writer(f).writerows(final_outcome)"
   ]
  },
  {
   "cell_type": "code",
   "execution_count": 6,
   "id": "1251b3bb-97ba-40d0-a43b-3f384a01f041",
   "metadata": {
    "tags": []
   },
   "outputs": [
    {
     "name": "stdout",
     "output_type": "stream",
     "text": [
      "len(targets) = 47\n",
      "Done!\n",
      "CPU times: user 24.2 ms, sys: 0 ns, total: 24.2 ms\n",
      "Wall time: 23.8 ms\n"
     ]
    }
   ],
   "source": [
    "%%time\n",
    "\n",
    "print(f'{len(targets) = }')\n",
    "\n",
    "for target in targets:\n",
    "    generate(target)\n",
    "\n",
    "print('Done!')"
   ]
  },
  {
   "cell_type": "code",
   "execution_count": null,
   "id": "c4904239-5a8a-42fa-9254-7ec7a2a954fb",
   "metadata": {},
   "outputs": [],
   "source": []
  }
 ],
 "metadata": {
  "kernelspec": {
   "display_name": "Python 3",
   "language": "python",
   "name": "python3"
  },
  "language_info": {
   "codemirror_mode": {
    "name": "ipython",
    "version": 3
   },
   "file_extension": ".py",
   "mimetype": "text/x-python",
   "name": "python",
   "nbconvert_exporter": "python",
   "pygments_lexer": "ipython3",
   "version": "3.10.11"
  }
 },
 "nbformat": 4,
 "nbformat_minor": 5
}
